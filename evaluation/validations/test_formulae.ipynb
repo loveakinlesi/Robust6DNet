{
 "cells": [
  {
   "cell_type": "code",
   "execution_count": 5,
   "metadata": {},
   "outputs": [],
   "source": [
    "import numpy as np\n",
    "import sys\n",
    "import os\n",
    "parent_dir = os.path.abspath('../../')\n",
    "if parent_dir not in sys.path:\n",
    "    sys.path.append(parent_dir)"
   ]
  },
  {
   "cell_type": "code",
   "execution_count": 31,
   "metadata": {},
   "outputs": [],
   "source": [
    "d3 = np.array( [\n",
    "    [\n",
    "      -0.00188566,\n",
    "      -0.00191034,\n",
    "      -0.01075015\n",
    "    ],\n",
    "    [\n",
    "      -0.0203664,\n",
    "      0.0193442,\n",
    "      -0.0076361\n",
    "    ],\n",
    "    [\n",
    "      0.0356255,\n",
    "      -0.0169712,\n",
    "      -0.044263\n",
    "    ],\n",
    "    [\n",
    "      0.0075111,\n",
    "      -0.0044303,\n",
    "      0.0414566\n",
    "    ],\n",
    "    [\n",
    "      -0.001604,\n",
    "      -0.0339459,\n",
    "      -0.0054867\n",
    "    ],\n",
    "    [\n",
    "      -0.0266571,\n",
    "      -0.0139838,\n",
    "      -0.0430416\n",
    "    ],\n",
    "    [\n",
    "      0.0102731,\n",
    "      0.0201762,\n",
    "      -0.0407712\n",
    "    ],\n",
    "    [\n",
    "      0.0139023,\n",
    "      0.0178718,\n",
    "      0.0098713\n",
    "    ],\n",
    "    [\n",
    "      -0.0207606,\n",
    "      -0.0098099,\n",
    "      0.0161704\n",
    "    ],\n",
    "    [\n",
    "      0.0300282,\n",
    "      -0.0213168,\n",
    "      -0.0104571\n",
    "    ],\n",
    "    [\n",
    "      0.0043648,\n",
    "      -0.0272656,\n",
    "      -0.0387991\n",
    "    ],\n",
    "    [\n",
    "      -0.0226127,\n",
    "      0.0178226,\n",
    "      -0.0398794\n",
    "    ],\n",
    "    [\n",
    "      -0.0352885,\n",
    "      -0.0092208,\n",
    "      -0.0120545\n",
    "    ],\n",
    "    [\n",
    "      0.0046317,\n",
    "      0.0356367,\n",
    "      -0.013914\n",
    "    ],\n",
    "    [\n",
    "      0.0123733,\n",
    "      0.0024986,\n",
    "      -0.016529\n",
    "    ]\n",
    "  ])"
   ]
  },
  {
   "cell_type": "code",
   "execution_count": 39,
   "metadata": {},
   "outputs": [],
   "source": [
    "pred = np.array([[246.84375 ,  234.5078125],\n",
    " [260.34375  , 228.9296875],\n",
    " [235.453125 , 255.625    ],\n",
    " [239.25     , 231.71875  ],\n",
    " [229.96875  , 230.125    ],\n",
    " [246.       , 226.5390625],\n",
    " [258.234375 , 248.453125 ],\n",
    " [253.171875,  242.078125 ],\n",
    " [244.3125   , 220.9609375],\n",
    " [230.8125   , 247.2578125],\n",
    " [234.1875  ,  238.4921875],\n",
    " [262.453125 , 234.5078125],\n",
    " [249.375    , 218.96875  ],\n",
    " [265.828125 , 242.4765625],\n",
    " [247.265625 , 243.2734375]],)\n",
    "\n",
    "\n",
    "gt= np.array([[246.23526163, 234.74468202],\n",
    " [260.56726581, 227.46526711],\n",
    " [234.25214949, 256.57714912],\n",
    " [240.21656946, 232.29108123],\n",
    " [228.30867518, 229.67444364],\n",
    " [245.31259981, 224.54189307],\n",
    " [257.75138189, 247.99533118],\n",
    " [253.62628689, 243.38227323],\n",
    " [243.33661289, 219.6520844 ],\n",
    " [230.50332892, 249.0935496 ],\n",
    " [233.26769065, 238.17984312],\n",
    " [261.37185044, 230.49742626],\n",
    " [247.52756469, 216.25439315],\n",
    " [265.89733543, 243.9000127 ],\n",
    " [246.72836181, 243.71479399]])"
   ]
  },
  {
   "cell_type": "code",
   "execution_count": 48,
   "metadata": {},
   "outputs": [
    {
     "name": "stdout",
     "output_type": "stream",
     "text": [
      "[0.65296651 1.4813799  1.53262198 1.12330742 1.72013065 2.11215642\n",
      " 0.66547541 1.38104771 1.63262123 1.86159003 0.971395   4.15359513\n",
      " 3.2834053  1.42513177 0.69530374]\n",
      "[1. 1. 1. 1. 1. 1. 1. 1. 1. 1. 1. 1. 1. 1. 1.]\n"
     ]
    }
   ],
   "source": [
    "from utils.evaluation import compute_pck\n",
    "threshold=5.0\n",
    "distances = np.linalg.norm(pred - gt, axis=1)\n",
    "print(distances)\n",
    "correct = (distances <= threshold).astype(np.float32)\n",
    "print(correct)\n",
    "# pck = compute_pck(pred, gt, threshold=5.0)\n",
    "# pck"
   ]
  },
  {
   "cell_type": "code",
   "execution_count": 49,
   "metadata": {},
   "outputs": [
    {
     "data": {
      "text/plain": [
       "np.float32(100.0)"
      ]
     },
     "execution_count": 49,
     "metadata": {},
     "output_type": "execute_result"
    }
   ],
   "source": [
    "correct.mean() * 100"
   ]
  },
  {
   "cell_type": "code",
   "execution_count": 56,
   "metadata": {},
   "outputs": [],
   "source": [
    "R = np.array([[ 0.33799522, -0.02456728 ,-0.94082712],\n",
    " [-0.55883192,  0.79911666, -0.22162907],\n",
    " [ 0.75727546,  0.60067379,  0.25636863]])\n",
    "t = np.array([[-0.00832857],\n",
    " [-0.01220279],\n",
    " [ 0.00998286]],)\n",
    "K = np.array([\n",
    "      [\n",
    "        572.4114,\n",
    "        0.0,\n",
    "        325.2611\n",
    "      ],\n",
    "      [\n",
    "        0.0,\n",
    "        573.57043,\n",
    "        242.04899\n",
    "      ],\n",
    "      [\n",
    "        0.0,\n",
    "        0.0,\n",
    "        1.0\n",
    "      ]\n",
    "    ],)"
   ]
  },
  {
   "cell_type": "code",
   "execution_count": 57,
   "metadata": {},
   "outputs": [
    {
     "name": "stdout",
     "output_type": "stream",
     "text": [
      "[[  472.32649548 -1027.20141836]\n",
      " [ -827.66091782  2460.53843051]\n",
      " [ 2024.50237364 -1092.00092527]\n",
      " [ -756.81421375  -464.75307821]\n",
      " [  451.55955419  1880.46455103]\n",
      " [ -128.5968718    221.56189125]\n",
      " [ 1297.67938253   455.05705577]\n",
      " [   98.91841741   108.27092127]\n",
      " [ 2643.63617335  1163.38060499]\n",
      " [  729.82852507 -1212.09545978]\n",
      " [-1006.0431777   1466.56373999]\n",
      " [-1489.26455578 -1783.24477209]\n",
      " [  521.29358495   178.27673207]\n",
      " [  424.87538244   549.08028079]\n",
      " [  716.01969418  -222.48427507]]\n",
      "[1281.69912684 2482.70653503 2239.81982501 1215.40813121 1665.14957832\n",
      "  374.62993554 1059.77880139  204.2020983  2577.77208441 1542.31286275\n",
      " 1745.37442171 2672.04796472  274.94646236  345.40102804  660.80301467]\n"
     ]
    },
    {
     "data": {
      "text/plain": [
       "np.float64(1356.1367913524668)"
      ]
     },
     "execution_count": 57,
     "metadata": {},
     "output_type": "execute_result"
    }
   ],
   "source": [
    "from utils.evaluation import compute_reprojection_error\n",
    "from utils.keypoints import project_3D_points_to_2D\n",
    "\n",
    "projected = project_3D_points_to_2D(d3, R, t, K) \n",
    "distances = np.linalg.norm(projected - pred, axis=1)  \n",
    "print(projected)\n",
    "print(distances)     \n",
    "error = distances.mean()\n",
    "error\n",
    "# reproj_error = compute_reprojection_error(R, t, d3, gt, K)\n",
    "# reproj_error"
   ]
  },
  {
   "cell_type": "code",
   "execution_count": null,
   "metadata": {},
   "outputs": [],
   "source": []
  },
  {
   "cell_type": "code",
   "execution_count": null,
   "metadata": {},
   "outputs": [],
   "source": []
  }
 ],
 "metadata": {
  "kernelspec": {
   "display_name": ".venv",
   "language": "python",
   "name": "python3"
  },
  "language_info": {
   "codemirror_mode": {
    "name": "ipython",
    "version": 3
   },
   "file_extension": ".py",
   "mimetype": "text/x-python",
   "name": "python",
   "nbconvert_exporter": "python",
   "pygments_lexer": "ipython3",
   "version": "3.11.9"
  }
 },
 "nbformat": 4,
 "nbformat_minor": 2
}
