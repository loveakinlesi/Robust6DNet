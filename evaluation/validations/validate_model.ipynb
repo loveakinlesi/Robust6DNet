{
 "cells": [
  {
   "cell_type": "code",
   "execution_count": null,
   "id": "9ca269d3",
   "metadata": {},
   "outputs": [],
   "source": [
    "import json\n",
    "import os\n",
    "import sys\n",
    "import cv2\n",
    "import matplotlib.pyplot as plt\n",
    "import numpy as np\n",
    "import random\n",
    "from pathlib import Path\n",
    "import torch\n",
    "import torchvision.transforms as T\n",
    "\n",
    "parent_dir = os.path.abspath('../../')\n",
    "if parent_dir not in sys.path:\n",
    "    sys.path.append(parent_dir)\n",
    "\n",
    "from utils.image_handling import crop_image, pad_bbox\n",
    "from utils.keypoints import crop_and_resize_keypoints\n",
    "from utils.heatmap import generate_multi_gaussian_heatmaps, decode_heatmaps\n",
    "from training.keypointnet import KeypointNet"
   ]
  },
  {
   "cell_type": "code",
   "execution_count": null,
   "id": "c7127dd6",
   "metadata": {},
   "outputs": [],
   "source": [
    "BASE_PATH = Path(\"../../\")"
   ]
  },
  {
   "cell_type": "code",
   "execution_count": null,
   "id": "5a4c2c9b",
   "metadata": {},
   "outputs": [],
   "source": [
    "def load_sample(sample_path):\n",
    "    with open(sample_path, 'r') as f:\n",
    "        samples = json.load(f)\n",
    "    return samples"
   ]
  },
  {
   "cell_type": "code",
   "execution_count": null,
   "id": "24003020",
   "metadata": {},
   "outputs": [],
   "source": [
    "def preprocess_image(image_path, bbox):\n",
    "    img = cv2.imread(str(image_path))\n",
    "    img = cv2.cvtColor(img, cv2.COLOR_BGR2RGB)\n",
    "    cropped_img = crop_image(img, bbox)\n",
    "    cropped_img = T.ToTensor()(cropped_img)\n",
    "    return cropped_img.unsqueeze(0)"
   ]
  },
  {
   "cell_type": "code",
   "execution_count": null,
   "id": "d23c08e6",
   "metadata": {},
   "outputs": [],
   "source": [
    "def visualize_model_quality(obj_id, samples):\n",
    "    device = torch.device('cuda' if torch.cuda.is_available() else 'cpu')\n",
    "    NUM_KEYPOINTS = 15\n",
    "    IMAGE_SIZE =(128, 128)\n",
    "    MODEL_PATH = BASE_PATH / f\"models/r6dnet/obj_{obj_id:06d}.pt\"\n",
    "    model = KeypointNet(\n",
    "        num_keypoints=NUM_KEYPOINTS,\n",
    "        output_size=IMAGE_SIZE,\n",
    "    ).to(device)\n",
    "\n",
    "    model.load_state_dict(torch.load(MODEL_PATH, map_location=device))\n",
    "    model.eval()\n",
    "\n",
    "    fig, axes = plt.subplots(2, len(samples), figsize=(5 * len(samples), 10))\n",
    "\n",
    "    if len(samples) == 1:\n",
    "        axes = [axes]\n",
    "\n",
    "    for i, sample_entry in enumerate(samples):\n",
    "        image_id = sample_entry['image_id']\n",
    "        bbox =  pad_bbox(sample_entry['bbox_obj'])\n",
    "        keypoints = sample_entry['keypoints_2D']   \n",
    "        image_path = BASE_PATH / sample_entry['rgb_path']\n",
    "        keypoints = crop_and_resize_keypoints(keypoints, bbox, IMAGE_SIZE)\n",
    "        gt_heatmaps = generate_multi_gaussian_heatmaps(keypoints, IMAGE_SIZE, sigma=5)\n",
    "        img = preprocess_image(image_path, bbox).to(device)\n",
    "\n",
    "        with torch.no_grad():\n",
    "            heatmaps = model(img)\n",
    "            heatmaps_np = heatmaps.cpu().numpy()[0]\n",
    "            decoded_keypoints = decode_heatmaps(heatmaps_np, IMAGE_SIZE)\n",
    "\n",
    "        axes[0][i].imshow(img.cpu().numpy()[0].transpose(1, 2, 0))\n",
    "        for j in range(NUM_KEYPOINTS):\n",
    "            # axes[1][i].imshow(heatmaps_np[j], cmap='hot', alpha=0.5)\n",
    "            axes[1][i].scatter(keypoints[j][0], keypoints[j][1], c='blue', s=10)\n",
    "            axes[1][i].set_title(f\"Keypoint {j+1}\")\n",
    "            axes[1][i].axis('off')\n",
    "        axes[0][i].set_title(f\"Sample {image_id}\")\n",
    "        axes[0][i].axis('off')\n",
    "\n",
    "        for j in range(NUM_KEYPOINTS):\n",
    "            axes[1][i].imshow(heatmaps_np[j], cmap='jet', alpha=0.5)\n",
    "            axes[1][i].scatter(decoded_keypoints[j][0], decoded_keypoints[j][1], c='blue', s=10)\n",
    "            axes[1][i].set_title(f\"Keypoint {j+1}\")\n",
    "            axes[1][i].axis('off')\n",
    "\n",
    "    plt.tight_layout()\n",
    "    plt.show()"
   ]
  },
  {
   "cell_type": "code",
   "execution_count": null,
   "id": "3bb99a4f",
   "metadata": {},
   "outputs": [],
   "source": [
    "obj_id = 1  # Change as needed\n",
    "sample_path = BASE_PATH / f\"data/annotations/{obj_id:06d}.json\"\n",
    "samples = load_sample(sample_path)\n",
    "\n",
    "# Randomly select 3 samples\n",
    "random.seed(42)\n",
    "selected_samples = random.sample(samples, 5)"
   ]
  }
 ],
 "metadata": {
  "language_info": {
   "name": "python"
  }
 },
 "nbformat": 4,
 "nbformat_minor": 5
}
