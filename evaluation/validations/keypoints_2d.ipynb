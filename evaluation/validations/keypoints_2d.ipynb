{
 "cells": [
  {
   "cell_type": "code",
   "execution_count": 1,
   "id": "ac9326d0",
   "metadata": {},
   "outputs": [],
   "source": [
    "import json\n",
    "import cv2\n",
    "import matplotlib.pyplot as plt\n",
    "import numpy as np\n",
    "import random\n",
    "from pathlib import Path"
   ]
  },
  {
   "cell_type": "code",
   "execution_count": 2,
   "id": "86391973",
   "metadata": {},
   "outputs": [],
   "source": [
    "def load_sample(sample_path):\n",
    "    with open(sample_path, 'r') as f:\n",
    "        samples = json.load(f)\n",
    "    return samples"
   ]
  },
  {
   "cell_type": "code",
   "execution_count": 3,
   "id": "b44504cc",
   "metadata": {},
   "outputs": [],
   "source": [
    "def prepare_cropped_image(sample_entry, target_size=(128, 128)):\n",
    "    rgb_path = Path(sample_entry['rgb_path'].replace('\\\\', '/'))\n",
    "    img = cv2.imread(str(rgb_path))\n",
    "    if img is None:\n",
    "        raise FileNotFoundError(f\"Image not found: {rgb_path}\")\n",
    "    img_rgb = cv2.cvtColor(img, cv2.COLOR_BGR2RGB)\n",
    "\n",
    "    # Crop using bbox_obj\n",
    "    x, y, w, h = sample_entry['bbox_obj']\n",
    "    cropped_img = img_rgb[y:y+h, x:x+w]\n",
    "\n",
    "    # Resize cropped image\n",
    "    resized_img = cv2.resize(cropped_img, target_size)\n",
    "\n",
    "    # Adjust keypoints relative to crop\n",
    "    keypoints_2D = np.array(sample_entry['keypoints_2D'])\n",
    "    keypoints_2D_cropped = keypoints_2D - np.array([x, y])\n",
    "\n",
    "    # Scale keypoints to new size\n",
    "    scale_x = target_size[0] / w\n",
    "    scale_y = target_size[1] / h\n",
    "    keypoints_2D_resized = keypoints_2D_cropped * np.array([scale_x, scale_y])\n",
    "\n",
    "    return resized_img, keypoints_2D_resized, sample_entry['image_id']"
   ]
  },
  {
   "cell_type": "code",
   "execution_count": 4,
   "id": "988279a7",
   "metadata": {},
   "outputs": [],
   "source": [
    "def visualize_multiple_samples(samples):\n",
    "    fig, axes = plt.subplots(1, len(samples), figsize=(5 * len(samples), 5))\n",
    "\n",
    "    if len(samples) == 1:\n",
    "        axes = [axes]\n",
    "\n",
    "    for ax, sample_entry in zip(axes, samples):\n",
    "        resized_img, keypoints_2D_resized, image_id = prepare_cropped_image(sample_entry)\n",
    "        ax.imshow(resized_img)\n",
    "        ax.axis('off')\n",
    "\n",
    "        for idx, (x_kp, y_kp) in enumerate(keypoints_2D_resized):\n",
    "            ax.scatter(x_kp, y_kp, c='red', s=40)\n",
    "            ax.text(x_kp + 2, y_kp - 2, str(idx), color='yellow', fontsize=8)\n",
    "\n",
    "        ax.set_title(f\"Image ID: {image_id}\")\n",
    "\n",
    "    plt.tight_layout()\n",
    "    plt.show()"
   ]
  },
  {
   "cell_type": "code",
   "execution_count": 5,
   "id": "9aab3f0a",
   "metadata": {},
   "outputs": [
    {
     "ename": "FileNotFoundError",
     "evalue": "[Errno 2] No such file or directory: '../data/annotations/train/000001.json'",
     "output_type": "error",
     "traceback": [
      "\u001b[0;31m---------------------------------------------------------------------------\u001b[0m",
      "\u001b[0;31mFileNotFoundError\u001b[0m                         Traceback (most recent call last)",
      "Cell \u001b[0;32mIn[5], line 3\u001b[0m\n\u001b[1;32m      1\u001b[0m obj_id \u001b[38;5;241m=\u001b[39m \u001b[38;5;241m1\u001b[39m  \u001b[38;5;66;03m# Change as needed\u001b[39;00m\n\u001b[1;32m      2\u001b[0m sample_path \u001b[38;5;241m=\u001b[39m Path(\u001b[38;5;124mf\u001b[39m\u001b[38;5;124m\"\u001b[39m\u001b[38;5;124m../data/annotations/train/\u001b[39m\u001b[38;5;132;01m{\u001b[39;00mobj_id\u001b[38;5;132;01m:\u001b[39;00m\u001b[38;5;124m06d\u001b[39m\u001b[38;5;132;01m}\u001b[39;00m\u001b[38;5;124m.json\u001b[39m\u001b[38;5;124m\"\u001b[39m)\n\u001b[0;32m----> 3\u001b[0m samples \u001b[38;5;241m=\u001b[39m \u001b[43mload_sample\u001b[49m\u001b[43m(\u001b[49m\u001b[43msample_path\u001b[49m\u001b[43m)\u001b[49m\n\u001b[1;32m      5\u001b[0m \u001b[38;5;66;03m# Randomly select 3 samples\u001b[39;00m\n\u001b[1;32m      6\u001b[0m selected_samples \u001b[38;5;241m=\u001b[39m random\u001b[38;5;241m.\u001b[39msample(samples, \u001b[38;5;241m3\u001b[39m)\n",
      "Cell \u001b[0;32mIn[2], line 2\u001b[0m, in \u001b[0;36mload_sample\u001b[0;34m(sample_path)\u001b[0m\n\u001b[1;32m      1\u001b[0m \u001b[38;5;28;01mdef\u001b[39;00m\u001b[38;5;250m \u001b[39m\u001b[38;5;21mload_sample\u001b[39m(sample_path):\n\u001b[0;32m----> 2\u001b[0m     \u001b[38;5;28;01mwith\u001b[39;00m \u001b[38;5;28;43mopen\u001b[39;49m\u001b[43m(\u001b[49m\u001b[43msample_path\u001b[49m\u001b[43m,\u001b[49m\u001b[43m \u001b[49m\u001b[38;5;124;43m'\u001b[39;49m\u001b[38;5;124;43mr\u001b[39;49m\u001b[38;5;124;43m'\u001b[39;49m\u001b[43m)\u001b[49m \u001b[38;5;28;01mas\u001b[39;00m f:\n\u001b[1;32m      3\u001b[0m         samples \u001b[38;5;241m=\u001b[39m json\u001b[38;5;241m.\u001b[39mload(f)\n\u001b[1;32m      4\u001b[0m     \u001b[38;5;28;01mreturn\u001b[39;00m samples\n",
      "File \u001b[0;32m~/Library/Python/3.9/lib/python/site-packages/IPython/core/interactiveshell.py:310\u001b[0m, in \u001b[0;36m_modified_open\u001b[0;34m(file, *args, **kwargs)\u001b[0m\n\u001b[1;32m    303\u001b[0m \u001b[38;5;28;01mif\u001b[39;00m file \u001b[38;5;129;01min\u001b[39;00m {\u001b[38;5;241m0\u001b[39m, \u001b[38;5;241m1\u001b[39m, \u001b[38;5;241m2\u001b[39m}:\n\u001b[1;32m    304\u001b[0m     \u001b[38;5;28;01mraise\u001b[39;00m \u001b[38;5;167;01mValueError\u001b[39;00m(\n\u001b[1;32m    305\u001b[0m         \u001b[38;5;124mf\u001b[39m\u001b[38;5;124m\"\u001b[39m\u001b[38;5;124mIPython won\u001b[39m\u001b[38;5;124m'\u001b[39m\u001b[38;5;124mt let you open fd=\u001b[39m\u001b[38;5;132;01m{\u001b[39;00mfile\u001b[38;5;132;01m}\u001b[39;00m\u001b[38;5;124m by default \u001b[39m\u001b[38;5;124m\"\u001b[39m\n\u001b[1;32m    306\u001b[0m         \u001b[38;5;124m\"\u001b[39m\u001b[38;5;124mas it is likely to crash IPython. If you know what you are doing, \u001b[39m\u001b[38;5;124m\"\u001b[39m\n\u001b[1;32m    307\u001b[0m         \u001b[38;5;124m\"\u001b[39m\u001b[38;5;124myou can use builtins\u001b[39m\u001b[38;5;124m'\u001b[39m\u001b[38;5;124m open.\u001b[39m\u001b[38;5;124m\"\u001b[39m\n\u001b[1;32m    308\u001b[0m     )\n\u001b[0;32m--> 310\u001b[0m \u001b[38;5;28;01mreturn\u001b[39;00m \u001b[43mio_open\u001b[49m\u001b[43m(\u001b[49m\u001b[43mfile\u001b[49m\u001b[43m,\u001b[49m\u001b[43m \u001b[49m\u001b[38;5;241;43m*\u001b[39;49m\u001b[43margs\u001b[49m\u001b[43m,\u001b[49m\u001b[43m \u001b[49m\u001b[38;5;241;43m*\u001b[39;49m\u001b[38;5;241;43m*\u001b[39;49m\u001b[43mkwargs\u001b[49m\u001b[43m)\u001b[49m\n",
      "\u001b[0;31mFileNotFoundError\u001b[0m: [Errno 2] No such file or directory: '../data/annotations/train/000001.json'"
     ]
    }
   ],
   "source": [
    "obj_id = 1  # Change as needed\n",
    "sample_path = Path(f\"../data/annotations/train/{obj_id:06d}.json\")\n",
    "samples = load_sample(sample_path)\n",
    "\n",
    "# Randomly select 3 samples\n",
    "selected_samples = random.sample(samples, 3)\n",
    "\n",
    "visualize_multiple_samples(selected_samples)\n"
   ]
  },
  {
   "cell_type": "code",
   "execution_count": null,
   "id": "9d3c9038",
   "metadata": {},
   "outputs": [],
   "source": []
  }
 ],
 "metadata": {
  "kernelspec": {
   "display_name": "Python 3",
   "language": "python",
   "name": "python3"
  },
  "language_info": {
   "codemirror_mode": {
    "name": "ipython",
    "version": 3
   },
   "file_extension": ".py",
   "mimetype": "text/x-python",
   "name": "python",
   "nbconvert_exporter": "python",
   "pygments_lexer": "ipython3",
   "version": "3.9.6"
  }
 },
 "nbformat": 4,
 "nbformat_minor": 5
}
