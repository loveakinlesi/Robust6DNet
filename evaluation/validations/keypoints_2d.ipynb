{
 "cells": [
  {
   "cell_type": "code",
   "execution_count": null,
   "id": "ac9326d0",
   "metadata": {},
   "outputs": [],
   "source": [
    "import json\n",
    "import os\n",
    "import sys\n",
    "import cv2\n",
    "import matplotlib.pyplot as plt\n",
    "import numpy as np\n",
    "import random\n",
    "from pathlib import Path\n",
    "\n",
    "parent_dir = os.path.abspath('../')\n",
    "if parent_dir not in sys.path:\n",
    "    sys.path.append(parent_dir)\n",
    "\n",
    "from utils.image_handling import crop_image\n",
    "from utils.keypoints import crop_and_resize_keypoints"
   ]
  },
  {
   "cell_type": "code",
   "execution_count": null,
   "id": "db53eb0c",
   "metadata": {},
   "outputs": [],
   "source": [
    "BASE_PATH = Path(\"../../\")"
   ]
  },
  {
   "cell_type": "code",
   "execution_count": null,
   "id": "86391973",
   "metadata": {},
   "outputs": [],
   "source": [
    "def load_sample(sample_path):\n",
    "    with open(sample_path, 'r') as f:\n",
    "        samples = json.load(f)\n",
    "    return samples"
   ]
  },
  {
   "cell_type": "code",
   "execution_count": null,
   "id": "b44504cc",
   "metadata": {},
   "outputs": [],
   "source": [
    "def prepare_cropped_image(sample_entry, target_size=(128, 128)):\n",
    "    rgb_path = Path(sample_entry['rgb_path'].replace('\\\\', '/'))\n",
    "    img = cv2.imread(BASE_PATH / str(rgb_path))\n",
    "    if img is None:\n",
    "        raise FileNotFoundError(f\"Image not found: {rgb_path}\")\n",
    "    img_rgb = cv2.cvtColor(img, cv2.COLOR_BGR2RGB)\n",
    "\n",
    "    # Crop using bbox_obj\n",
    "    x, y, w, h = sample_entry['bbox_obj']\n",
    "    cropped_img = crop_image(img_rgb, bbox=(x, y, w, h))\n",
    "\n",
    "    # Resize cropped image\n",
    "    resized_img = cv2.resize(cropped_img, target_size, interpolation=cv2.INTER_LINEAR)\n",
    "\n",
    "    # Adjust keypoints relative to crop\n",
    "    keypoints_2D = np.array(sample_entry['keypoints_2D'])\n",
    "    keypoints_2D_resized = crop_and_resize_keypoints(keypoints_2D, crop_box=(x, y, w, h), target_size=target_size)\n",
    "\n",
    "    return resized_img, keypoints_2D_resized, sample_entry['image_id']"
   ]
  },
  {
   "cell_type": "code",
   "execution_count": null,
   "id": "988279a7",
   "metadata": {},
   "outputs": [],
   "source": [
    "def visualize_multiple_samples(samples):\n",
    "    fig, axes = plt.subplots(1, len(samples), figsize=(5 * len(samples), 5))\n",
    "\n",
    "    if len(samples) == 1:\n",
    "        axes = [axes]\n",
    "\n",
    "    for ax, sample_entry in zip(axes, samples):\n",
    "        resized_img, keypoints_2D_resized, image_id = prepare_cropped_image(sample_entry)\n",
    "        ax.imshow(resized_img)\n",
    "        ax.axis('off')\n",
    "\n",
    "        text_offset = 2\n",
    "        for idx, (x_kp, y_kp) in enumerate(keypoints_2D_resized):\n",
    "            ax.scatter(x_kp, y_kp, c='red', s=15)\n",
    "            ax.text(x_kp + text_offset, y_kp - text_offset, str(idx), color='blue', fontsize=8)\n",
    "\n",
    "        ax.set_title(f\"Image ID: {image_id}\")\n",
    "\n",
    "    plt.tight_layout()\n",
    "    plt.show()"
   ]
  },
  {
   "cell_type": "code",
   "execution_count": null,
   "id": "9aab3f0a",
   "metadata": {},
   "outputs": [],
   "source": [
    "obj_id = 1  # Change as needed\n",
    "sample_path = BASE_PATH / f\"data/annotations/{obj_id:06d}.json\"\n",
    "samples = load_sample(sample_path)\n",
    "\n",
    "# Randomly select 3 samples\n",
    "random.seed(36)\n",
    "selected_samples = random.sample(samples, 3)\n",
    "\n",
    "visualize_multiple_samples(selected_samples)\n"
   ]
  },
  {
   "cell_type": "code",
   "execution_count": null,
   "id": "9d3c9038",
   "metadata": {},
   "outputs": [],
   "source": []
  }
 ],
 "metadata": {
  "kernelspec": {
   "display_name": "Python 3",
   "language": "python",
   "name": "python3"
  },
  "language_info": {
   "codemirror_mode": {
    "name": "ipython",
    "version": 3
   },
   "file_extension": ".py",
   "mimetype": "text/x-python",
   "name": "python",
   "nbconvert_exporter": "python",
   "pygments_lexer": "ipython3",
   "version": "3.9.6"
  }
 },
 "nbformat": 4,
 "nbformat_minor": 5
}
