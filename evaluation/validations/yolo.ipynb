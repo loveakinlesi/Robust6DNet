{
 "cells": [
  {
   "cell_type": "code",
   "execution_count": 1,
   "id": "ff10a6f9",
   "metadata": {},
   "outputs": [
    {
     "name": "stderr",
     "output_type": "stream",
     "text": [
      "/Users/loveakinlesi/Library/Python/3.9/lib/python/site-packages/urllib3/__init__.py:35: NotOpenSSLWarning: urllib3 v2 only supports OpenSSL 1.1.1+, currently the 'ssl' module is compiled with 'LibreSSL 2.8.3'. See: https://github.com/urllib3/urllib3/issues/3020\n",
      "  warnings.warn(\n"
     ]
    }
   ],
   "source": [
    "from ultralytics import YOLO\n",
    "import cv2\n",
    "from pathlib import Path"
   ]
  },
  {
   "cell_type": "code",
   "execution_count": 2,
   "id": "5bc80da1",
   "metadata": {},
   "outputs": [],
   "source": [
    "# Load YOLO model\n",
    "def load_yolo_model(model_path):\n",
    "    model = YOLO(model_path)\n",
    "    return model\n",
    "\n",
    "# Run YOLO inference\n",
    "def run_yolo_inference(model, image_path):\n",
    "    results = model(image_path)\n",
    "    return results"
   ]
  },
  {
   "cell_type": "code",
   "execution_count": 10,
   "id": "c7f3e3c7",
   "metadata": {},
   "outputs": [
    {
     "name": "stdout",
     "output_type": "stream",
     "text": [
      "\n",
      "image 1/1 /Users/loveakinlesi/Desktop/Robust6D_simple/evaluation/../datasets/lm/test/000001/rgb/000092.png: 320x416 1 ape, 1 can, 1 cat, 1 cup, 1 duck, 1 eggbox, 1 glue, 1 holepuncher, 34.2ms\n",
      "Speed: 1.1ms preprocess, 34.2ms inference, 0.7ms postprocess per image at shape (1, 3, 320, 416)\n"
     ]
    }
   ],
   "source": [
    "\n",
    "obj_id = 1  # Change as needed\n",
    "image_id = 92  # Change as needed\n",
    "\n",
    "# Define paths\n",
    "model_path = \"../models/yolo/yolo-lm.pt\"\n",
    "image_path = f\"../datasets/lm/test/{obj_id:06d}/rgb/{image_id:06d}.png\"\n",
    "\n",
    "# Load model\n",
    "yolo_model = load_yolo_model(model_path)\n",
    "\n",
    "# Run inference\n",
    "results = run_yolo_inference(yolo_model, image_path)\n",
    "\n",
    "# Display results\n",
    "results[0].show()\n"
   ]
  },
  {
   "cell_type": "code",
   "execution_count": null,
   "id": "382a54cd",
   "metadata": {},
   "outputs": [],
   "source": []
  }
 ],
 "metadata": {
  "kernelspec": {
   "display_name": "Python 3",
   "language": "python",
   "name": "python3"
  },
  "language_info": {
   "codemirror_mode": {
    "name": "ipython",
    "version": 3
   },
   "file_extension": ".py",
   "mimetype": "text/x-python",
   "name": "python",
   "nbconvert_exporter": "python",
   "pygments_lexer": "ipython3",
   "version": "3.9.6"
  }
 },
 "nbformat": 4,
 "nbformat_minor": 5
}
