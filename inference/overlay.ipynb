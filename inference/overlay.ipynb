{
 "cells": [
  {
   "cell_type": "code",
   "execution_count": null,
   "id": "9e0faa48",
   "metadata": {},
   "outputs": [],
   "source": [
    "import numpy as np\n",
    "import cv2\n",
    "import trimesh\n",
    "import matplotlib.pyplot as plt\n",
    "import os\n",
    "import sys\n",
    "\n",
    "parent_dir = os.path.abspath('../../')\n",
    "if parent_dir not in sys.path:\n",
    "    sys.path.append(parent_dir)"
   ]
  },
  {
   "cell_type": "code",
   "execution_count": 2,
   "id": "58e68c4c",
   "metadata": {},
   "outputs": [],
   "source": [
    "def draw_model_overlay(img, projected_pts, faces=None, color=(0, 255, 0)):\n",
    "    img_overlay = img.copy()\n",
    "    \n",
    "    if faces is not None:\n",
    "        # Draw mesh faces\n",
    "        for face in faces:\n",
    "            pts = projected_pts[face].astype(np.int32)\n",
    "            cv2.polylines(img_overlay, [pts], isClosed=True, color=color, thickness=1)\n",
    "    else:\n",
    "        # Draw points only\n",
    "        for (x, y) in projected_pts.astype(np.int32):\n",
    "            cv2.circle(img_overlay, (x, y), 2, color, -1)\n",
    "\n",
    "    return img_overlay"
   ]
  },
  {
   "cell_type": "code",
   "execution_count": null,
   "id": "232931e1",
   "metadata": {},
   "outputs": [],
   "source": [
    "def visualize_pose(img, model_path, R, t, K):\n",
    "    mesh = trimesh.load(model_path)\n",
    "\n",
    "    # Optional: scale vertices if model was in millimeters\n",
    "    vertices = mesh.vertices.copy()\n",
    "    if vertices.max() > 10:  # crude check if it's not already in meters\n",
    "        vertices *= 0.001  # convert mm → meters\n",
    "\n",
    "    faces = mesh.faces if hasattr(mesh, 'faces') else None\n",
    "\n",
    "    projected_pts = project_3D_points_to_2D(vertices, R, t, K)\n",
    "    overlay = draw_model_overlay(img, projected_pts, faces=faces)\n",
    "\n",
    "    plt.figure(figsize=(8, 8))\n",
    "    plt.imshow(cv2.cvtColor(overlay, cv2.COLOR_BGR2RGB))\n",
    "    plt.axis('off')\n",
    "    plt.show()"
   ]
  }
 ],
 "metadata": {
  "kernelspec": {
   "display_name": "Python 3",
   "language": "python",
   "name": "python3"
  },
  "language_info": {
   "codemirror_mode": {
    "name": "ipython",
    "version": 3
   },
   "file_extension": ".py",
   "mimetype": "text/x-python",
   "name": "python",
   "nbconvert_exporter": "python",
   "pygments_lexer": "ipython3",
   "version": "3.9.6"
  }
 },
 "nbformat": 4,
 "nbformat_minor": 5
}
